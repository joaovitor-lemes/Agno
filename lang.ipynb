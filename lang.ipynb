{
 "cells": [
  {
   "cell_type": "markdown",
   "id": "a53c52db",
   "metadata": {},
   "source": [
    "## Aprendendo Langchain"
   ]
  },
  {
   "cell_type": "code",
   "execution_count": 8,
   "id": "8d66bd0a",
   "metadata": {},
   "outputs": [],
   "source": [
    "from langchain_openai import ChatOpenAI, OpenAI\n",
    "\n",
    "llm = OpenAI()"
   ]
  },
  {
   "cell_type": "code",
   "execution_count": 9,
   "id": "54b5fe88",
   "metadata": {},
   "outputs": [
    {
     "data": {
      "text/plain": [
       "'\\n\\nO descobrimento do Brasil se deu em 22 de abril de 1500, quando a frota portuguesa comandada pelo navegador Pedro Álvares Cabral chegou às terras que hoje conhecemos como Brasil. A expedição partiu de Portugal em direção às Índias, seguindo a rota traçada por Vasco da Gama, mas acabou desviando sua rota devido a condições climáticas e chegou à costa brasileira.\\n\\nAo chegarem, os portugueses avistaram o Monte Pascoal, na atual Bahia, e seguiram em direção à costa, onde encontraram nativos que habitavam a região. Esses indígenas foram chamados de índios pelos europeus, pois acreditavam terem chegado às Índias, e o nome acabou se mantendo até os dias de hoje.\\n\\nA descoberta do Brasil é um marco histórico importante, pois a partir desse momento, os portugueses iniciaram a colonização e exploração das terras brasileiras. A Coroa Portuguesa passou a enviar expedições para explorar e'"
      ]
     },
     "execution_count": 9,
     "metadata": {},
     "output_type": "execute_result"
    }
   ],
   "source": [
    "pergunta = 'Fale sobre o descobrimento do Brasil'\n",
    "llm.invoke(pergunta)"
   ]
  },
  {
   "cell_type": "code",
   "execution_count": 10,
   "id": "23bceba3",
   "metadata": {},
   "outputs": [
    {
     "name": "stdout",
     "output_type": "stream",
     "text": [
      "\n",
      "\n",
      "O descobrimento do Brasil é um marco histórico que ocorreu em 22 de abril de 1500, quando a frota comandada por Pedro Álvares Cabral chegou às terras brasileiras. Esse acontecimento é considerado um dos mais importantes da história do país, pois foi o início da colonização e influenciou diretamente na formação cultural, social e econômica do Brasil.\n",
      "\n",
      "A viagem de Cabral tinha como objetivo chegar às Índias, mas devido aos ventos e correntes marítimas, a frota acabou desviando sua rota e chegando ao litoral sul da Bahia. Ao avistarem a terra, os portugueses acreditaram ser uma grande ilha e a batizaram de \"Ilha de Vera Cruz\". Mais tarde, essa ilha seria chamada de Terra de Santa Cruz e, posteriormente, Brasil.\n",
      "\n",
      "Os portugueses foram recebidos pelos nativos, que chamavam o lugar de \"Pindorama\", e que tinham uma cultura e forma de vida totalmente diferente da europeia. Esse primeiro contato foi marcado por curiosidade e trocas"
     ]
    }
   ],
   "source": [
    "for trecho in llm.stream(pergunta):\n",
    "    print(trecho, end = '')"
   ]
  },
  {
   "cell_type": "markdown",
   "id": "4138c500",
   "metadata": {},
   "source": [
    "### Chat Models"
   ]
  },
  {
   "cell_type": "code",
   "execution_count": null,
   "id": "6850a43b",
   "metadata": {},
   "outputs": [],
   "source": [
    "chat = ChatOpenAI(model = 'gpt-4.1-2025-04-14' )"
   ]
  },
  {
   "cell_type": "code",
   "execution_count": 14,
   "id": "3f453c31",
   "metadata": {},
   "outputs": [
    {
     "name": "stdout",
     "output_type": "stream",
     "text": [
      "Física quântica (ou mecânica quântica) é a teoria que descreve o comportamento da matéria e da energia em escalas muito pequenas — átomos, elétrons, fótons — onde as leis da física clássica deixam de ser adequadas. Em vez de trajetórias definidas, a teoria fornece probabilidades e regras que frequentemente parecem contraintuitivas.\n",
      "\n",
      "Principais conceitos\n",
      "- Quantização: certas grandezas (como energia de um elétron num átomo) só podem assumir valores discretos.\n",
      "- Dualidade onda-partícula: objetos quânticos podem exibir comportamento de partícula ou de onda dependendo do experimento (ex.: elétrons mostram padrão de interferência).\n",
      "- Superposição: um sistema pode estar em uma combinação de estados ao mesmo tempo; só ao medir ele “escolhe” um resultado com certa probabilidade.\n",
      "- Emaranhamento: partículas podem ter propriedades fortemente correlacionadas mesmo quando separadas por grandes distâncias; medir uma afeta a descrição da outra.\n",
      "- Princípio da incerteza (Heisenberg): não se pode conhecer simultaneamente com precisão arbitrária certos pares de grandezas (por exemplo posição e momento).\n",
      "- Papel da medida: a teoria descreve como a medida influencia os resultados; isso levanta questões conceituais sobre “colapso” do estado e interpretações.\n",
      "\n",
      "Exemplos experimentais famosos\n",
      "- Experimento da fenda dupla (double-slit): mostra interferência com partículas individuais.\n",
      "- Efeito fotoelétrico: luz faz elétrons serem ejetados de metais em quantidades dependentes da frequência (base para fótons).\n",
      "- Experimento de Stern–Gerlach: demonstra quantização do momento angular.\n",
      "\n",
      "Formalismo matemático (breve)\n",
      "- Estados são descritos por funções de onda ou vetores em um espaço de Hilbert.\n",
      "- A evolução no tempo muitas vezes é dada pela equação de Schrödinger.\n",
      "- Observáveis são operadores; o quadrado do módulo da função de onda dá probabilidades dos resultados.\n",
      "\n",
      "Diferença principal em relação à física clássica\n",
      "- Clássica: trajetórias e previsões determinísticas (com condições iniciais conhecidas).\n",
      "- Quântica: descrição probabilística e intrinsecamente não-determinística em nível fundamental.\n",
      "\n",
      "Aplicações práticas\n",
      "- Eletrônica (transistores, semicondutores), lasers, LEDs.\n",
      "- Ressonância magnética (MRI).\n",
      "- Criptografia quântica, computação quântica, sensores quânticos.\n",
      "\n",
      "Equívocos comuns\n",
      "- “Observador” não precisa ser um humano consciente — é qualquer interação que causa decoerência/medida.\n",
      "- Efeitos quânticos não são só “místicos”; são bem entendidos, testados e aplicados tecnologicamente.\n",
      "- “Qualquer coisa é possível” na quântica: há regras matemáticas estritas que limitam o comportamento.\n",
      "\n",
      "Se quiser, posso:\n",
      "- Explicar algum conceito específico (superposição, emaranhamento, princípio da incerteza) com exemplos visuais;\n",
      "- Mostrar um experimento (double-slit) passo a passo;\n",
      "- Indicar livros ou recursos introdutórios em português.\n"
     ]
    }
   ],
   "source": [
    "from langchain_core.messages import HumanMessage, SystemMessage\n",
    "\n",
    "msg = [SystemMessage(content = \"Voce é um fisico quantico\"),\n",
    "    HumanMessage(content = \"O que é física quantica\")]\n",
    "\n",
    "resp = chat.invoke(msg)\n",
    "print(resp.content)"
   ]
  }
 ],
 "metadata": {
  "kernelspec": {
   "display_name": "venv",
   "language": "python",
   "name": "python3"
  },
  "language_info": {
   "codemirror_mode": {
    "name": "ipython",
    "version": 3
   },
   "file_extension": ".py",
   "mimetype": "text/x-python",
   "name": "python",
   "nbconvert_exporter": "python",
   "pygments_lexer": "ipython3",
   "version": "3.12.10"
  }
 },
 "nbformat": 4,
 "nbformat_minor": 5
}
